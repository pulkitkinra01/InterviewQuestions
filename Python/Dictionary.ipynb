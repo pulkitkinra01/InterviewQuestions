{
 "cells": [
  {
   "cell_type": "markdown",
   "metadata": {
    "ExecuteTime": {
     "end_time": "2021-01-24T16:41:36.417986Z",
     "start_time": "2021-01-24T16:41:36.413794Z"
    }
   },
   "source": [
    "### Sort Dictionary or Tuple"
   ]
  },
  {
   "cell_type": "code",
   "execution_count": 40,
   "metadata": {
    "ExecuteTime": {
     "end_time": "2021-01-24T17:20:52.979520Z",
     "start_time": "2021-01-24T17:20:52.974278Z"
    }
   },
   "outputs": [],
   "source": [
    "import pprint, re\n",
    "from functools import reduce\n"
   ]
  },
  {
   "cell_type": "code",
   "execution_count": 13,
   "metadata": {
    "ExecuteTime": {
     "end_time": "2021-01-24T16:52:17.202301Z",
     "start_time": "2021-01-24T16:52:17.190841Z"
    }
   },
   "outputs": [
    {
     "name": "stdout",
     "output_type": "stream",
     "text": [
      "Sorted Dictionary\n",
      "[{'color': 'Gold', 'make': 'Mi Max', 'model': '2'},\n",
      " {'color': 'Blue', 'make': 'Samsung', 'model': 7},\n",
      " {'color': 'Black', 'make': 'Nokia', 'model': 216}]\n",
      "Sorted Tuple\n",
      "[('Social sciences', 82), ('English', 88), ('Science', 90), ('Maths', 97)]\n"
     ]
    }
   ],
   "source": [
    "# Sort a Dictionary\n",
    "dict = [{'make': 'Nokia', 'model': 216, 'color': 'Black'},\n",
    "        {'make': 'Mi Max', 'model': '2', 'color': 'Gold'},\n",
    "        {'make': 'Samsung', 'model': 7, 'color': 'Blue'}]\n",
    "\n",
    "print(\"Sorted Dictionary\")\n",
    "pprint.pprint( sorted( dict, key= lambda x:int(x['model']) ) )\n",
    "\n",
    "print(\"Sorted Tuple\")\n",
    "tup = [('English', 88), ('Science', 90), ('Maths', 97), ('Social sciences', 82)]\n",
    "\n",
    "pprint.pprint( sorted(tup, key= lambda x:x[1]) )"
   ]
  },
  {
   "cell_type": "code",
   "execution_count": 18,
   "metadata": {
    "ExecuteTime": {
     "end_time": "2021-01-24T16:57:37.131989Z",
     "start_time": "2021-01-24T16:57:37.124308Z"
    }
   },
   "outputs": [
    {
     "name": "stdout",
     "output_type": "stream",
     "text": [
      "True\n"
     ]
    }
   ],
   "source": [
    "# Program to find if a given string starts with a given character using Lambda\n",
    "\n",
    "name='Kavi'\n",
    "print( (lambda name: name[0]=='K')(name) )"
   ]
  },
  {
   "cell_type": "code",
   "execution_count": 37,
   "metadata": {
    "ExecuteTime": {
     "end_time": "2021-01-24T17:12:04.679107Z",
     "start_time": "2021-01-24T17:12:04.669348Z"
    }
   },
   "outputs": [
    {
     "name": "stdout",
     "output_type": "stream",
     "text": [
      "2020 01 15\n",
      "('2020', '01', '15', '09:03:32.744178')\n"
     ]
    }
   ],
   "source": [
    "# program to extract year, month, date and time using Lambda\n",
    "\n",
    "data = '2020-01-15 09:03:32.744178'\n",
    "year  = (lambda x: x.split('-')[0])(data)\n",
    "month = (lambda x: x.split('-')[1])(data)\n",
    "date = (lambda x: re.search('.*-(..) .*',x).group(1))(data)\n",
    "\n",
    "# data = re.search('(....)-(..)-(..) (..:..:...*$)',data) \n",
    "\n",
    "# print(data.group(1))\n",
    "print( year, month, date)\n",
    "\n",
    "for x in re.findall('(....)-(..)-(..) (..:..:...*$)',data):\n",
    "    print( x )"
   ]
  },
  {
   "cell_type": "markdown",
   "metadata": {},
   "source": []
  },
  {
   "cell_type": "code",
   "execution_count": 105,
   "metadata": {
    "ExecuteTime": {
     "end_time": "2021-01-26T00:46:47.866789Z",
     "start_time": "2021-01-26T00:46:47.857295Z"
    }
   },
   "outputs": [
    {
     "data": {
      "text/plain": [
       "[0, 1, 1, 2, 3, 5, 8, 13]"
      ]
     },
     "execution_count": 105,
     "metadata": {},
     "output_type": "execute_result"
    }
   ],
   "source": []
  },
  {
   "cell_type": "code",
   "execution_count": 50,
   "metadata": {
    "ExecuteTime": {
     "end_time": "2021-01-25T23:42:13.143264Z",
     "start_time": "2021-01-25T23:42:13.133740Z"
    }
   },
   "outputs": [
    {
     "name": "stdout",
     "output_type": "stream",
     "text": [
      "10\n"
     ]
    }
   ],
   "source": [
    "class Employee:\n",
    "    def __init__(self, age):\n",
    "        self.age = age\n",
    "        \n",
    "    def show_age(self):\n",
    "        print( self.age )\n",
    "        \n",
    "e = Employee(10)\n",
    "e.show_age()"
   ]
  },
  {
   "cell_type": "code",
   "execution_count": null,
   "metadata": {},
   "outputs": [],
   "source": []
  }
 ],
 "metadata": {
  "kernelspec": {
   "display_name": "Python 3",
   "language": "python",
   "name": "python3"
  },
  "language_info": {
   "codemirror_mode": {
    "name": "ipython",
    "version": 3
   },
   "file_extension": ".py",
   "mimetype": "text/x-python",
   "name": "python",
   "nbconvert_exporter": "python",
   "pygments_lexer": "ipython3",
   "version": "3.7.3"
  },
  "toc": {
   "base_numbering": 1,
   "nav_menu": {},
   "number_sections": true,
   "sideBar": true,
   "skip_h1_title": false,
   "title_cell": "Table of Contents",
   "title_sidebar": "Contents",
   "toc_cell": false,
   "toc_position": {},
   "toc_section_display": true,
   "toc_window_display": true
  }
 },
 "nbformat": 4,
 "nbformat_minor": 2
}
