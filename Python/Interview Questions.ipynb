{
 "cells": [
  {
   "cell_type": "markdown",
   "metadata": {},
   "source": [
    "# Interview Questions"
   ]
  },
  {
   "cell_type": "markdown",
   "metadata": {},
   "source": [
    "## Basic Machine Learning Questions Asked\n",
    "\n",
    "### Overfitting\n",
    "#### What do you understand by overfitting?\n",
    "#### What do you understand by Bias-Variance Trade Off?\n",
    "<p>\n",
    "    <b>Bias</b> of a model represents the amount of error the model will commit on a given dataset, while\n",
    "    \n",
    "   <b>variance</b> of the model measures how much the model changes when trained on a different dataset\n",
    "</p>\n",
    "\n",
    "#### How to handle null values?\n",
    "#### What is the difference between clustering and classification ?\n",
    "\n",
    "#### What is the difference between Regularisation and Generalisability?\n",
    "\n",
    "Regularisation is a common technique used to overcome the problem of overfitting. Most of the neural networks tends to overfit the data, to overcome the scenario we use Regularisation.\n",
    "\n",
    "It is usually done by adding some regularisation term.\n",
    "\n",
    "$Objective function = Loss Function (Error term) + Regularization term$\n",
    "\n",
    "Types of Regularisation Term:-\n",
    "1. Ridge and Lasso ( L1 and L2 ) regularisation\n",
    "2. Dropouts - used specially for neural networks"
   ]
  },
  {
   "cell_type": "markdown",
   "metadata": {},
   "source": [
    "### Machine Learning Models\n",
    "#### What is Kernel in SVM (Support Vector Machines)?"
   ]
  },
  {
   "cell_type": "code",
   "execution_count": null,
   "metadata": {},
   "outputs": [],
   "source": [
    "# Supress Warnings\n",
    "import warnings\n",
    "warnings.filterwarnings('ignore')\n",
    "\n",
    "# .apply(lambda x: (x - x.mean()) / np.std(x))"
   ]
  },
  {
   "cell_type": "code",
   "execution_count": null,
   "metadata": {},
   "outputs": [],
   "source": [
    "from sklearn.preprocessing import StandardScaler, MinMaxScaler\n",
    "\n",
    "# To Scale our data\n",
    "from sklearn.preprocessing import scale\n",
    "\n",
    "# To perform KMeans clustering \n",
    "from sklearn.cluster import KMeans\n",
    "\n",
    "from sklearn.neighbors import NearestNeighbors\n",
    "\n",
    "from sklearn.metrics import silhouette_score"
   ]
  },
  {
   "cell_type": "code",
   "execution_count": null,
   "metadata": {},
   "outputs": [],
   "source": [
    "from sklearn.preprocessing import MinMaxScaler\n",
    "from sklearn.model_selection import train_test_split\n",
    "scaler = MinMaxScaler()\n",
    "df_train[num_vars] = scaler.fit_transform(df_train[num_vars])\n",
    "df_train, df_test = train_test_split(housing, train_size = 0.7, test_size = 0.3, random_state = 100)"
   ]
  },
  {
   "cell_type": "code",
   "execution_count": null,
   "metadata": {},
   "outputs": [],
   "source": [
    "# Importing RFE and LinearRegression\n",
    "from sklearn.feature_selection import RFE\n",
    "from sklearn.linear_model import LinearRegression\n",
    "\n",
    "# Create an object of linear regression\n",
    "lm = LinearRegression()\n",
    "\n",
    "# 2. Fit the model\n",
    "lm.fit(X_train_lm, y_train)\n",
    "\n",
    "# See the params and make predictions\n",
    "print(\"Coeff is :\",lm.coef_)\n",
    "print(\"Intercept:\",lm.intercept_)\n",
    "\n",
    "y_test_pred  = lm.predict(X_test_lm)\n",
    "\n",
    "print(r2_score())"
   ]
  },
  {
   "cell_type": "markdown",
   "metadata": {},
   "source": [
    "Clustering"
   ]
  },
  {
   "cell_type": "code",
   "execution_count": null,
   "metadata": {},
   "outputs": [],
   "source": [
    "# Kmeans with K=5\n",
    "model_clus5 = KMeans(n_clusters = 5, max_iter=50)\n",
    "model_clus5.fit(RFM_norm1)"
   ]
  },
  {
   "cell_type": "code",
   "execution_count": null,
   "metadata": {},
   "outputs": [],
   "source": [
    "from kmodes.kprototypes import KPrototypes"
   ]
  }
 ],
 "metadata": {
  "kernelspec": {
   "display_name": "Python 3",
   "language": "python",
   "name": "python3"
  },
  "language_info": {
   "codemirror_mode": {
    "name": "ipython",
    "version": 3
   },
   "file_extension": ".py",
   "mimetype": "text/x-python",
   "name": "python",
   "nbconvert_exporter": "python",
   "pygments_lexer": "ipython3",
   "version": "3.7.3"
  },
  "toc": {
   "base_numbering": 1,
   "nav_menu": {},
   "number_sections": true,
   "sideBar": true,
   "skip_h1_title": false,
   "title_cell": "Table of Contents",
   "title_sidebar": "Contents",
   "toc_cell": false,
   "toc_position": {},
   "toc_section_display": true,
   "toc_window_display": true
  }
 },
 "nbformat": 4,
 "nbformat_minor": 2
}
