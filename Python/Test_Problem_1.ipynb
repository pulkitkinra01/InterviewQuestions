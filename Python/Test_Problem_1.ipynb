{
 "cells": [
  {
   "cell_type": "markdown",
   "metadata": {},
   "source": [
    "# Problem Statement\n",
    "Write a function that will convert a ‘getter’ method name in camelCase form into a user-friendly field\n",
    "name. The function should handle conversions of input strings to output strings such as the following\n",
    "examples:\n",
    "\n",
    "<table>\n",
    "    <tr>\n",
    "        <th>Input String</th>\n",
    "        <th>Output String</th>\n",
    "    </tr>\n",
    "    <tr>\n",
    "        <td>getCurrency</td>\n",
    "        <td>Currency</td>\n",
    "    </tr>\n",
    "    <tr>\n",
    "        <td>getAccountName</td>\n",
    "        <td>Account_Name</td>\n",
    "    </tr>\n",
    "    <tr>\n",
    "        <td>getLongAccountName</td>\n",
    "        <td>Long_Account_Name</td>\n",
    "    </tr>\n",
    "    <tr>\n",
    "        <td>getTradeID</td>\n",
    "        <td>Trade_ID</td>\n",
    "    </tr>\n",
    "    <tr>\n",
    "        <td>getSWIFTCode</td>\n",
    "        <td>SWIFT_Code</td>\n",
    "    </tr>\n",
    "</table>\n",
    "\n",
    "You may assume the function only has to handle method names that start with ‘get’ and exclusively\n",
    "contain letters, i.e. no digit characters, etc. The function should be written in a programming language\n",
    "of your choice, e.g. Java, Python, C, etc."
   ]
  },
  {
   "cell_type": "code",
   "execution_count": 1,
   "metadata": {
    "ExecuteTime": {
     "end_time": "2021-03-14T22:49:33.886384Z",
     "start_time": "2021-03-14T22:49:33.881815Z"
    }
   },
   "outputs": [],
   "source": [
    "import string\n",
    "import re\n",
    "# print ( string.ascii_uppercase )"
   ]
  },
  {
   "cell_type": "code",
   "execution_count": 2,
   "metadata": {
    "ExecuteTime": {
     "end_time": "2021-03-14T22:49:35.527086Z",
     "start_time": "2021-03-14T22:49:35.510271Z"
    }
   },
   "outputs": [],
   "source": [
    "def modify_str(str, startAt=0):\n",
    "    upper = string.ascii_uppercase\n",
    "    \n",
    "    for idx,chr in enumerate(str ):\n",
    "        if( (idx !=0) & (idx != len(str)-1) ):\n",
    "            if chr in upper:\n",
    "                if str[idx+1] not in upper:\n",
    "                    new_str = modify_str(str[idx:])\n",
    "                    updated_str = str[:idx] + '_' +  new_str\n",
    "                    return( updated_str )\n",
    "            else:\n",
    "                if str[idx+1] in upper:\n",
    "                    new_str = modify_str(str[idx+1:])\n",
    "                    updated_str = str[:idx+1] + '_' + new_str\n",
    "                    return( updated_str )\n",
    "\n",
    "    return( str )              "
   ]
  },
  {
   "cell_type": "code",
   "execution_count": 3,
   "metadata": {
    "ExecuteTime": {
     "end_time": "2021-03-14T22:49:36.673291Z",
     "start_time": "2021-03-14T22:49:36.654424Z"
    }
   },
   "outputs": [
    {
     "data": {
      "text/plain": [
       "'Long_Account_Name'"
      ]
     },
     "execution_count": 3,
     "metadata": {},
     "output_type": "execute_result"
    }
   ],
   "source": [
    "\n",
    "str = \"getLongAccountName\"\n",
    "str = re.sub('^get','',str)\n",
    "# print( str )\n",
    "\n",
    "modify_str(str)"
   ]
  },
  {
   "cell_type": "code",
   "execution_count": 4,
   "metadata": {
    "ExecuteTime": {
     "end_time": "2021-03-14T22:49:38.172397Z",
     "start_time": "2021-03-14T22:49:38.161533Z"
    }
   },
   "outputs": [
    {
     "name": "stdout",
     "output_type": "stream",
     "text": [
      "Modified function name for function  getCurrency  is :  Currency\n",
      "Modified function name for function  getAccountName  is :  Account_Name\n",
      "Modified function name for function  getLongAccountName  is :  Long_Account_Name\n",
      "Modified function name for function  getTradeID  is :  Trade_ID\n",
      "Modified function name for function  getSWIFTCode  is :  SWIFT_Code\n"
     ]
    }
   ],
   "source": [
    "test_Strings = [\"getCurrency\", \"getAccountName\", \"getLongAccountName\", \"getTradeID\", \"getSWIFTCode\"]\n",
    "\n",
    "for str1 in test_Strings:\n",
    "    str2 = re.sub('^get','',str1)\n",
    "    new_str = modify_str( str2 )\n",
    "    \n",
    "    print(\"Modified function name for function \", str1, \" is : \", new_str )"
   ]
  },
  {
   "cell_type": "code",
   "execution_count": 8,
   "metadata": {
    "ExecuteTime": {
     "end_time": "2021-03-14T22:56:15.968584Z",
     "start_time": "2021-03-14T22:56:15.932855Z"
    }
   },
   "outputs": [
    {
     "name": "stderr",
     "output_type": "stream",
     "text": [
      "test_modify_str (__main__.TestNotebook) ... "
     ]
    },
    {
     "name": "stdout",
     "output_type": "stream",
     "text": [
      "5 items had no tests:\n",
      "    __main__\n",
      "    __main__.TestNotebook\n",
      "    __main__.TestNotebook.test_modify_str\n",
      "    __main__.modify_str\n",
      "    __main__.yapf_reformat\n",
      "0 tests in 5 items.\n",
      "0 passed and 0 failed.\n",
      "Test passed.\n"
     ]
    },
    {
     "name": "stderr",
     "output_type": "stream",
     "text": [
      "ok\n",
      "\n",
      "----------------------------------------------------------------------\n",
      "Ran 1 test in 0.007s\n",
      "\n",
      "OK\n"
     ]
    },
    {
     "data": {
      "text/plain": [
       "<unittest.main.TestProgram at 0x7fb6ddaadb70>"
      ]
     },
     "execution_count": 8,
     "metadata": {},
     "output_type": "execute_result"
    }
   ],
   "source": [
    "import doctest\n",
    "import unittest\n",
    "\n",
    "doctest.testmod(verbose=True)\n",
    "\n",
    "class TestNotebook(unittest.TestCase):\n",
    "    \n",
    "    def test_modify_str( self ):\n",
    "        self.assertEqual( modify_str('AccountName'), 'Account_Name')\n",
    "        self.assertEqual( modify_str('LongAccountName'), 'Long_Account_Name')\n",
    "        self.assertEqual( modify_str('TradeID'), 'Trade_ID')\n",
    "        self.assertEqual( modify_str('SWIFTCode'), 'SWIFT_Code')\n",
    "    \n",
    "    def test_modify_str2( self ):\n",
    "        self.assertEqual( modify_str('LongAccountName'), 'Long_Account_Name')\n",
    "        \n",
    "    def test_modify_str2( self ):\n",
    "        self.assertEqual( modify_str('AccountName'), 'Account_Name')\n",
    "        \n",
    "    def test_modify_str2( self ):\n",
    "        self.assertEqual( modify_str('AccountName'), 'Account_Name')\n",
    "        \n",
    "    def test_modify_str2( self ):\n",
    "        self.assertEqual( modify_str('AccountName'), 'Account_Name')\n",
    "        \n",
    "    def test_modify_str2( self ):\n",
    "        self.assertEqual( modify_str('AccountName'), 'Account_Name')\n",
    "        \n",
    "        \n",
    "unittest.main(argv=[''], verbosity=2, exit=False)"
   ]
  },
  {
   "cell_type": "code",
   "execution_count": null,
   "metadata": {},
   "outputs": [],
   "source": []
  }
 ],
 "metadata": {
  "kernelspec": {
   "display_name": "Python 3",
   "language": "python",
   "name": "python3"
  },
  "language_info": {
   "codemirror_mode": {
    "name": "ipython",
    "version": 3
   },
   "file_extension": ".py",
   "mimetype": "text/x-python",
   "name": "python",
   "nbconvert_exporter": "python",
   "pygments_lexer": "ipython3",
   "version": "3.7.3"
  },
  "toc": {
   "base_numbering": 1,
   "nav_menu": {},
   "number_sections": true,
   "sideBar": true,
   "skip_h1_title": false,
   "title_cell": "Table of Contents",
   "title_sidebar": "Contents",
   "toc_cell": false,
   "toc_position": {},
   "toc_section_display": true,
   "toc_window_display": false
  }
 },
 "nbformat": 4,
 "nbformat_minor": 2
}
